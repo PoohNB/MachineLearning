{
 "cells": [
  {
   "cell_type": "code",
   "execution_count": 1,
   "metadata": {},
   "outputs": [],
   "source": [
    "import torch\n",
    "import torch.nn as nn #defining neural network\n",
    "import torch.nn.functional as F #helper\n",
    "from torch.utils.data import DataLoader #batching\n",
    "from torchvision import datasets, transforms #loading datasets\n",
    "from torchvision.utils import make_grid  #for visualization\n",
    "\n",
    "import numpy as np\n",
    "import pandas as pd\n",
    "from sklearn.metrics import confusion_matrix\n",
    "import matplotlib.pyplot as plt"
   ]
  },
  {
   "cell_type": "code",
   "execution_count": 2,
   "metadata": {},
   "outputs": [
    {
     "data": {
      "text/plain": [
       "<torch._C.Generator at 0x1baada20850>"
      ]
     },
     "execution_count": 2,
     "metadata": {},
     "output_type": "execute_result"
    }
   ],
   "source": [
    "torch.manual_seed(96)"
   ]
  },
  {
   "cell_type": "markdown",
   "metadata": {},
   "source": [
    "# Load dataset"
   ]
  },
  {
   "cell_type": "markdown",
   "metadata": {},
   "source": [
    "## Dataset"
   ]
  },
  {
   "cell_type": "code",
   "execution_count": 3,
   "metadata": {},
   "outputs": [],
   "source": [
    "# norm tranform (0,255 -> 0,1)\n",
    "transform = transforms.ToTensor()\n",
    "\n",
    "# load data\n",
    "train_data = datasets.MNIST(root=\"datasets\",train=True,download=True,transform=transform)\n",
    "\n",
    "# validation set\n",
    "train_set,val_set = torch.utils.data.random_split(train_data,[50000,10000])\n",
    "\n",
    "#test\n",
    "test_set  = datasets.MNIST(root='data', train=False, download=True, transform=transform)"
   ]
  },
  {
   "cell_type": "code",
   "execution_count": 4,
   "metadata": {},
   "outputs": [
    {
     "data": {
      "text/plain": [
       "Dataset MNIST\n",
       "    Number of datapoints: 60000\n",
       "    Root location: datasets\n",
       "    Split: Train\n",
       "    StandardTransform\n",
       "Transform: ToTensor()"
      ]
     },
     "execution_count": 4,
     "metadata": {},
     "output_type": "execute_result"
    }
   ],
   "source": [
    "train_data"
   ]
  },
  {
   "cell_type": "markdown",
   "metadata": {},
   "source": [
    "## Dataloader"
   ]
  },
  {
   "cell_type": "code",
   "execution_count": 5,
   "metadata": {},
   "outputs": [],
   "source": [
    "# for batch\n",
    "\n",
    "train_loader = DataLoader(train_set,batch_size = 64,shuffle=True)\n",
    "val_loader = DataLoader(val_set,batch_size = 64,shuffle=True)\n",
    "test_loader = DataLoader(test_set,batch_size = 10000,shuffle=False) # no need to shuffle and batch cuda will not out of memory because no grad cal\n",
    "\n"
   ]
  },
  {
   "cell_type": "code",
   "execution_count": 6,
   "metadata": {},
   "outputs": [
    {
     "data": {
      "text/plain": [
       "782"
      ]
     },
     "execution_count": 6,
     "metadata": {},
     "output_type": "execute_result"
    }
   ],
   "source": [
    "len(train_loader) # sample 782*64 = 50048 (50000 sample)"
   ]
  },
  {
   "cell_type": "code",
   "execution_count": 7,
   "metadata": {},
   "outputs": [
    {
     "name": "stdout",
     "output_type": "stream",
     "text": [
      "torch.Size([64, 1, 28, 28])\n",
      "torch.Size([64])\n",
      "label:  2\n"
     ]
    },
    {
     "data": {
      "image/png": "[encoded data removed]",
      "text/plain": [
       "<Figure size 200x200 with 1 Axes>"
      ]
     },
     "metadata": {},
     "output_type": "display_data"
    }
   ],
   "source": [
    "\n",
    "for images,labels in train_loader:\n",
    "    break\n",
    "\n",
    "print(images.shape)\n",
    "print(labels.shape)\n",
    "\n",
    "plt.figure(figsize=(2,2))\n",
    "plt.imshow(np.transpose(images[0],(1,2,0)))\n",
    "print(\"label: \",labels[0].item())"
   ]
  },
  {
   "cell_type": "markdown",
   "metadata": {},
   "source": [
    "# network"
   ]
  },
  {
   "cell_type": "code",
   "execution_count": 8,
   "metadata": {},
   "outputs": [
    {
     "data": {
      "text/plain": [
       "torch.Size([64, 1, 28, 28])"
      ]
     },
     "execution_count": 8,
     "metadata": {},
     "output_type": "execute_result"
    }
   ],
   "source": [
    "images.shape"
   ]
  },
  {
   "cell_type": "markdown",
   "metadata": {},
   "source": [
    "$$O = \\frac{I-F+2P}{S} + 1$$"
   ]
  },
  {
   "cell_type": "code",
   "execution_count": 9,
   "metadata": {},
   "outputs": [
    {
     "data": {
      "text/plain": [
       "torch.Size([64, 3, 28, 28])"
      ]
     },
     "execution_count": 9,
     "metadata": {},
     "output_type": "execute_result"
    }
   ],
   "source": [
    "# conv1d = time series, language, signal\n",
    "# conv2d = images, spectrum\n",
    "# conv3d = video\n",
    "# [1,3,]\n",
    "# nn.ModuleList()\n",
    "\n",
    "layer1 = nn.Conv2d(in_channels=images.shape[1],out_channels=3,kernel_size=(5,3),stride=1,padding=(2,1))\n",
    "output = layer1(images)\n",
    "output.shape\n",
    "\n"
   ]
  },
  {
   "cell_type": "code",
   "execution_count": 10,
   "metadata": {},
   "outputs": [
    {
     "data": {
      "text/plain": [
       "torch.Size([64, 3, 28, 28])"
      ]
     },
     "execution_count": 10,
     "metadata": {},
     "output_type": "execute_result"
    }
   ],
   "source": [
    "output = layer1(images)\n",
    "output.shape"
   ]
  },
  {
   "cell_type": "code",
   "execution_count": 11,
   "metadata": {},
   "outputs": [
    {
     "data": {
      "text/plain": [
       "torch.Size([150528])"
      ]
     },
     "execution_count": 11,
     "metadata": {},
     "output_type": "execute_result"
    }
   ],
   "source": [
    "output.flatten().shape"
   ]
  },
  {
   "cell_type": "code",
   "execution_count": 12,
   "metadata": {},
   "outputs": [
    {
     "data": {
      "text/plain": [
       "[2, 3]"
      ]
     },
     "execution_count": 12,
     "metadata": {},
     "output_type": "execute_result"
    }
   ],
   "source": [
    "a = [1,2,3]\n",
    "a[1:]"
   ]
  },
  {
   "cell_type": "code",
   "execution_count": 13,
   "metadata": {},
   "outputs": [],
   "source": [
    "# version 0\n",
    "class POOH_CNN(nn.Module):\n",
    "\n",
    "    def __init__(self,input_shape,output_shape,conv_lc = [],linear_lc =[]):\n",
    "        super().__init__()\n",
    "        \"\"\"\n",
    "        everything square because it easy\n",
    "\n",
    "        input_shape: int \n",
    "        output_shape: int\n",
    "        linear_lc : [node1,node2,...]\n",
    "        conv_lc : [input,filter, ..]   input => (chanel)    filter => (chanel,kernal size) \n",
    "        \"\"\"\n",
    "\n",
    "        self.conv_list = nn.ModuleList([\n",
    "                                        nn.Conv2d(conv_lc[i][0],conv_lc[i+1][0],kernel_size=conv_lc[i+1][1] ,stride=1,padding=1) \n",
    "                                        for i in range(len(conv_lc[:-1])) \n",
    "                                        ])\n",
    "        \n",
    "        curr_shape = input_shape\n",
    "        for c in conv_lc[1:]:\n",
    "            curr_shape = self.cal_convshape(I = curr_shape,F=c[1])\n",
    "\n",
    "        self.conv_out = int(conv_lc[-1][0]*curr_shape**2)\n",
    "\n",
    "        linear_lc = [self.conv_out]+linear_lc+[output_shape]\n",
    "\n",
    "        self.linear_list = nn.ModuleList([\n",
    "                                        nn.Linear(linear_lc[i],linear_lc[i+1])\n",
    "                                          for i in range(len(linear_lc[:-1]))\n",
    "                                          ])\n",
    "\n",
    "    def cal_convshape(self,I,F,P=1,S=1):\n",
    "        return ((I-F+2*P)/S)+1\n",
    "    \n",
    "    def cal_pad(self,F,S):\n",
    "        pass\n",
    "\n",
    "    def forward(self,images):\n",
    "        \n",
    "        output = images\n",
    "        for layer in self.conv_list:\n",
    "            output = F.relu(layer(output))\n",
    "\n",
    "        output = output.reshape(-1,self.conv_out)\n",
    "        for layer in self.linear_list[:-1]:\n",
    "            output = F.relu(layer(output))\n",
    "\n",
    "        output = self.linear_list[-1](output) \n",
    "        \n",
    "\n",
    "        return output\n",
    "\n",
    "\n",
    "\n",
    "\n",
    "\n"
   ]
  },
  {
   "cell_type": "code",
   "execution_count": 14,
   "metadata": {},
   "outputs": [
    {
     "data": {
      "text/plain": [
       "torch.Size([64, 1, 28, 28])"
      ]
     },
     "execution_count": 14,
     "metadata": {},
     "output_type": "execute_result"
    }
   ],
   "source": [
    "images.shape"
   ]
  },
  {
   "cell_type": "code",
   "execution_count": 15,
   "metadata": {},
   "outputs": [],
   "source": [
    "#test first\n",
    "\n",
    "model = POOH_CNN(input_shape = images.shape[-1],output_shape=10,conv_lc=[(images.shape[1],None),(5,3),(10,3)],linear_lc=[120,84])\n"
   ]
  },
  {
   "cell_type": "code",
   "execution_count": 16,
   "metadata": {},
   "outputs": [
    {
     "data": {
      "text/plain": [
       "ModuleList(\n",
       "  (0): Conv2d(1, 5, kernel_size=(3, 3), stride=(1, 1), padding=(1, 1))\n",
       "  (1): Conv2d(5, 10, kernel_size=(3, 3), stride=(1, 1), padding=(1, 1))\n",
       ")"
      ]
     },
     "execution_count": 16,
     "metadata": {},
     "output_type": "execute_result"
    }
   ],
   "source": [
    "model.conv_list"
   ]
  },
  {
   "cell_type": "code",
   "execution_count": 17,
   "metadata": {},
   "outputs": [
    {
     "data": {
      "text/plain": [
       "ModuleList(\n",
       "  (0): Linear(in_features=7840, out_features=120, bias=True)\n",
       "  (1): Linear(in_features=120, out_features=84, bias=True)\n",
       "  (2): Linear(in_features=84, out_features=10, bias=True)\n",
       ")"
      ]
     },
     "execution_count": 17,
     "metadata": {},
     "output_type": "execute_result"
    }
   ],
   "source": [
    "model.linear_list"
   ]
  },
  {
   "cell_type": "code",
   "execution_count": 18,
   "metadata": {},
   "outputs": [
    {
     "data": {
      "text/plain": [
       "torch.Size([64, 10])"
      ]
     },
     "execution_count": 18,
     "metadata": {},
     "output_type": "execute_result"
    }
   ],
   "source": [
    "output  = model(images)\n",
    "output.shape"
   ]
  },
  {
   "cell_type": "code",
   "execution_count": 19,
   "metadata": {},
   "outputs": [],
   "source": [
    "def count_parameters(model):\n",
    "    params = [p.numel() for p in model.parameters() if p.requires_grad]\n",
    "    for item in params:\n",
    "        print(f'{item:>6}')\n",
    "    print(f'______\\n{sum(params):>6}')"
   ]
  },
  {
   "cell_type": "code",
   "execution_count": 20,
   "metadata": {},
   "outputs": [
    {
     "name": "stdout",
     "output_type": "stream",
     "text": [
      "    45\n",
      "     5\n",
      "   450\n",
      "    10\n",
      "940800\n",
      "   120\n",
      " 10080\n",
      "    84\n",
      "   840\n",
      "    10\n",
      "______\n",
      "952444\n"
     ]
    }
   ],
   "source": [
    "count_parameters(model)"
   ]
  },
  {
   "cell_type": "markdown",
   "metadata": {},
   "source": [
    "# training"
   ]
  },
  {
   "cell_type": "code",
   "execution_count": 21,
   "metadata": {},
   "outputs": [],
   "source": [
    "\n",
    "criterion = nn.CrossEntropyLoss()\n",
    "optimizer = torch.optim.Adam(model.parameters(), lr=0.01)"
   ]
  },
  {
   "cell_type": "code",
   "execution_count": 22,
   "metadata": {},
   "outputs": [],
   "source": [
    "num_epochs = 1\n",
    "for i in range(num_epochs):\n",
    "    for images, labels in train_loader:\n",
    "        y_hat = model(images)\n",
    "        loss  = criterion(y_hat, labels)\n",
    "        optimizer.zero_grad()\n",
    "        loss.backward()\n",
    "        optimizer.step()"
   ]
  },
  {
   "cell_type": "code",
   "execution_count": 23,
   "metadata": {},
   "outputs": [
    {
     "data": {
      "text/plain": [
       "0.028779927641153336"
      ]
     },
     "execution_count": 23,
     "metadata": {},
     "output_type": "execute_result"
    }
   ],
   "source": [
    "loss.item()"
   ]
  },
  {
   "cell_type": "markdown",
   "metadata": {},
   "source": [
    "# Testing"
   ]
  },
  {
   "cell_type": "code",
   "execution_count": 24,
   "metadata": {},
   "outputs": [
    {
     "name": "stdout",
     "output_type": "stream",
     "text": [
      "Cross Entrophy Loss:  0.08101659268140793\n"
     ]
    }
   ],
   "source": [
    "model.eval() #this will turn off dropout, batch norm\n",
    "with torch.no_grad():  #this will turn off gradient calculations\n",
    "    for images, labels in test_loader:\n",
    "        y_hat = model(images)\n",
    "        loss = criterion(y_hat, labels)\n",
    "        \n",
    "print(\"Cross Entrophy Loss: \", loss.item())"
   ]
  },
  {
   "cell_type": "markdown",
   "metadata": {},
   "source": [
    "# analysis"
   ]
  },
  {
   "cell_type": "code",
   "execution_count": 25,
   "metadata": {},
   "outputs": [
    {
     "data": {
      "text/plain": [
       "torch.Size([10000])"
      ]
     },
     "execution_count": 25,
     "metadata": {},
     "output_type": "execute_result"
    }
   ],
   "source": [
    "y_hat_pred = torch.max(y_hat, 1)[1]\n",
    "y_hat_pred.shape"
   ]
  },
  {
   "cell_type": "code",
   "execution_count": 26,
   "metadata": {},
   "outputs": [
    {
     "data": {
      "text/plain": [
       "array([[ 974,    0,    3,    2,    1,    4,    7,    0,    3,    4],\n",
       "       [   1, 1127,    1,    0,    1,    0,    4,    5,    1,    6],\n",
       "       [   0,    2, 1021,   14,    1,    0,    0,   15,    7,    1],\n",
       "       [   0,    1,    2,  973,    0,    6,    1,    0,    3,    1],\n",
       "       [   0,    1,    1,    0,  970,    0,    6,    1,    2,   18],\n",
       "       [   1,    0,    0,    6,    0,  858,    5,    0,    0,    4],\n",
       "       [   3,    2,    0,    0,    5,    4,  921,    0,    2,    0],\n",
       "       [   1,    1,    3,    7,    0,    2,    0, 1004,    2,   14],\n",
       "       [   0,    1,    1,    5,    3,   15,   14,    1,  951,   11],\n",
       "       [   0,    0,    0,    3,    1,    3,    0,    2,    3,  950]],\n",
       "      dtype=int64)"
      ]
     },
     "execution_count": 26,
     "metadata": {},
     "output_type": "execute_result"
    }
   ],
   "source": [
    "\n",
    "#confusion matrix\n",
    "confusion_matrix(y_hat_pred, labels)"
   ]
  },
  {
   "cell_type": "markdown",
   "metadata": {},
   "source": [
    "# Inference"
   ]
  },
  {
   "cell_type": "code",
   "execution_count": 27,
   "metadata": {},
   "outputs": [
    {
     "data": {
      "text/plain": [
       "7"
      ]
     },
     "execution_count": 27,
     "metadata": {},
     "output_type": "execute_result"
    }
   ],
   "source": [
    "\n",
    "test_set[0][0].shape\n",
    "test_set[0][1]"
   ]
  },
  {
   "cell_type": "code",
   "execution_count": 28,
   "metadata": {},
   "outputs": [
    {
     "data": {
      "text/plain": [
       "tensor([[ -9.2589,  -2.3991,   1.3148,  -0.0519, -10.6724,  -5.8069, -17.0051,\n",
       "          12.4333,  -5.4502,  -1.7179]], grad_fn=<AddmmBackward0>)"
      ]
     },
     "execution_count": 28,
     "metadata": {},
     "output_type": "execute_result"
    }
   ],
   "source": [
    "\n",
    "pred = model(test_set[0][0])\n",
    "pred"
   ]
  },
  {
   "cell_type": "code",
   "execution_count": 33,
   "metadata": {},
   "outputs": [
    {
     "data": {
      "text/plain": [
       "tensor(7)"
      ]
     },
     "execution_count": 33,
     "metadata": {},
     "output_type": "execute_result"
    }
   ],
   "source": [
    "pred.argmax()"
   ]
  }
 ],
 "metadata": {
  "kernelspec": {
   "display_name": "torch",
   "language": "python",
   "name": "python3"
  },
  "language_info": {
   "codemirror_mode": {
    "name": "ipython",
    "version": 3
   },
   "file_extension": ".py",
   "mimetype": "text/x-python",
   "name": "python",
   "nbconvert_exporter": "python",
   "pygments_lexer": "ipython3",
   "version": "3.10.9"
  }
 },
 "nbformat": 4,
 "nbformat_minor": 2
}
