{
 "cells": [
  {
   "cell_type": "markdown",
   "metadata": {},
   "source": [
    "# data"
   ]
  },
  {
   "cell_type": "code",
   "execution_count": 13,
   "metadata": {},
   "outputs": [],
   "source": [
    "import numpy as np\n",
    "X_train = np.array([[1,1],[2,2],[2,9],[1,14]])\n",
    "# print(X_train.shape)\n",
    "\n",
    "y_train = np.array([3,4,1,3])\n",
    "# print(y_train.shape)\n",
    "\n",
    "X_val = np.array([[1.5, 2], [2, 3], [1, 9], [1, 13]])\n",
    "X_val.shape #m, n\n",
    "\n",
    "y_val = np.array([3, 4, 9.5, 13.5])\n",
    "y_val.shape #m, \n",
    "\n",
    "X_test = np.array([[2, 1], [1, 2], [2, 8], [2, 13]])\n",
    "\n",
    "y_test = np.array([2, 5, 9, 14])\n",
    "\n",
    "assert X_train.shape[0]==y_train.shape[0]\n",
    "assert X_test.shape[0]==y_test.shape[0]"
   ]
  },
  {
   "cell_type": "markdown",
   "metadata": {},
   "source": [
    "# training"
   ]
  },
  {
   "cell_type": "code",
   "execution_count": 18,
   "metadata": {},
   "outputs": [],
   "source": [
    "def mse(yhat,y):\n",
    "    return  ((yhat - y)**2).sum()/yhat.shape[0]"
   ]
  },
  {
   "cell_type": "code",
   "execution_count": 41,
   "metadata": {},
   "outputs": [],
   "source": [
    "import pickle\n",
    "import os \n",
    "from pathlib import Path\n",
    "def savemodel(path,name,theta):\n",
    "    save_path =Path(path,name)\n",
    "\n",
    "    if not os.path.exists(path):\n",
    "        os.makedirs(path,exist_ok=True)\n",
    "\n",
    "    with open(save_path,\"wb\") as file:\n",
    "        pickle.dump(theta,file) \n",
    "    "
   ]
  },
  {
   "cell_type": "code",
   "execution_count": 43,
   "metadata": {},
   "outputs": [
    {
     "name": "stdout",
     "output_type": "stream",
     "text": [
      "initial=====\n",
      "theta=array([0., 0.])\n",
      "epoch 1============\n",
      "yhat=array([0., 0., 0., 0.])\n",
      "dJ=array([-16., -62.])\n",
      "theta=array([0.016, 0.062])\n",
      "train_loss=8.75\n",
      "val_loss=65.71064700000001\n",
      "epoch 2============\n",
      "yhat=array([0.078, 0.156, 0.59 , 0.884])\n",
      "dJ=array([-13.546, -43.924])\n",
      "theta=array([0.029546, 0.105924])\n",
      "train_loss=6.989993999999999\n",
      "val_loss=59.86217828119824\n",
      "early stoping at epoch 2\n",
      "save at models\\theta.pkl\n"
     ]
    }
   ],
   "source": [
    "print(\"initial=====\")\n",
    "num_epoch = 5\n",
    "lr = 0.001\n",
    "theta = np.zeros(X_train.shape[1])\n",
    "m,n = X_train.shape\n",
    "es_th = 10\n",
    "previous_val_loss = np.inf\n",
    "path = \"models\"\n",
    "name = \"theta.pkl\"\n",
    "# for batch just do batch = m\n",
    "batch = 2\n",
    "print(f\"{theta=}\")\n",
    "\n",
    "\n",
    "\n",
    "for i in range(num_epoch):\n",
    "\n",
    "    print(f\"epoch {i+1}============\")\n",
    "\n",
    "    for idx in range(0,X_train.shape[0],batch):\n",
    "\n",
    "        # predict\n",
    "        yhat = X_train @ theta\n",
    "        print(f\"{yhat=}\")\n",
    "\n",
    "        # gradient cal\n",
    "        # dJ = x^T (yhat - ytrain) (n,m) (m,1)\n",
    "        dJ = X_train.T @(yhat - y_train)\n",
    "        train_loss =  mse(yhat,y_train)\n",
    "        print(f\"{dJ=}\")\n",
    "\n",
    "        # update \n",
    "        theta = theta - lr * dJ\n",
    "        print(f\"{theta=}\")\n",
    "\n",
    "    # validation\n",
    "    yhat = X_val @ theta\n",
    "    val_loss = mse(yhat,y_val)\n",
    "    \n",
    "    \n",
    "    print(f\"{train_loss=}\")\n",
    "    print(f\"{val_loss=}\")\n",
    "\n",
    "\n",
    "    # early stop\n",
    "    # compare old val_loss to new \n",
    "    if abs(val_loss - previous_val_loss) < es_th:\n",
    "        print(f\"early stoping at epoch {i+1}\")\n",
    "        savemodel(path,name,theta)\n",
    "        print(f\"save at {Path(path,name)}\")\n",
    "        break\n",
    "        \n",
    "    \n",
    "    previous_val_loss = val_loss\n",
    "\n",
    "\n",
    "\n",
    "\n",
    "    \n",
    "\n",
    "\n",
    "    \n"
   ]
  },
  {
   "cell_type": "markdown",
   "metadata": {},
   "source": [
    "load "
   ]
  },
  {
   "cell_type": "code",
   "execution_count": 45,
   "metadata": {},
   "outputs": [
    {
     "data": {
      "text/plain": [
       "array([0.029546, 0.105924])"
      ]
     },
     "execution_count": 45,
     "metadata": {},
     "output_type": "execute_result"
    }
   ],
   "source": [
    "with open(\"models/theta.pkl\", 'rb') as handle:\n",
    "    theta = pickle.load(handle)\n",
    "theta"
   ]
  },
  {
   "cell_type": "markdown",
   "metadata": {},
   "source": [
    "# Testing"
   ]
  },
  {
   "cell_type": "code",
   "execution_count": 20,
   "metadata": {},
   "outputs": [
    {
     "data": {
      "text/plain": [
       "53.71586990149068"
      ]
     },
     "execution_count": 20,
     "metadata": {},
     "output_type": "execute_result"
    }
   ],
   "source": [
    "mse(X_test@theta,y_test)"
   ]
  },
  {
   "cell_type": "markdown",
   "metadata": {},
   "source": [
    "# inference"
   ]
  },
  {
   "cell_type": "code",
   "execution_count": 32,
   "metadata": {},
   "outputs": [],
   "source": [
    "def predict(theta):\n",
    "    x1 = float(input(\"type x1\"))\n",
    "    x2 = float(input(\"type x2\"))\n",
    "    x=[x1,x2]\n",
    "    answer =  x @ theta\n",
    "    print(f\"{answer=}\")\n",
    "    return answer"
   ]
  },
  {
   "cell_type": "code",
   "execution_count": 33,
   "metadata": {},
   "outputs": [
    {
     "name": "stdout",
     "output_type": "stream",
     "text": [
      "answer=97.37645918691162\n"
     ]
    }
   ],
   "source": [
    "a = predict(theta)"
   ]
  },
  {
   "cell_type": "code",
   "execution_count": 35,
   "metadata": {},
   "outputs": [
    {
     "name": "stdout",
     "output_type": "stream",
     "text": [
      "97.38\n"
     ]
    }
   ],
   "source": [
    "print(f\"{a:.2f}\")"
   ]
  }
 ],
 "metadata": {
  "kernelspec": {
   "display_name": "ML_env",
   "language": "python",
   "name": "python3"
  },
  "language_info": {
   "codemirror_mode": {
    "name": "ipython",
    "version": 3
   },
   "file_extension": ".py",
   "mimetype": "text/x-python",
   "name": "python",
   "nbconvert_exporter": "python",
   "pygments_lexer": "ipython3",
   "version": "3.9.17"
  }
 },
 "nbformat": 4,
 "nbformat_minor": 2
}
