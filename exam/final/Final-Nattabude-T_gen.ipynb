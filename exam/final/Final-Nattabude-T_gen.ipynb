{
  "cells": [
    {
      "cell_type": "markdown",
      "metadata": {
        "id": "tanGUW6DrdfS"
      },
      "source": [
        "# ML - Final - 2023\n",
        "\n",
        "## Instruction\n",
        "\n",
        "- Modify this file to be Final-<Your FirstName-[First Letter of Last Name]>, e.g., <code>Final-Chaklam-S.ipynb</code>\n",
        "- This exam is open-booked; open-internet, but no interactions with human beings or ChatGPT.\n",
        "- The completed exams shall be submitted at the virtual learning environment.\n",
        "- All code should be **complemented with comments**, unless it's really obvious.  **We reserve the privilege to give you zero for any part of the question where the benefit of doubt is not justified**"
      ]
    },
    {
      "cell_type": "markdown",
      "metadata": {
        "id": "py_UElLhrEnp"
      },
      "source": [
        "# Coding\n",
        "\n",
        "#### Summary\n",
        "In this section, you will be dealing with a classification problem. You will be generating your own data, training and evaluating them. You will be asked to create a neural network according to the instructions.\n",
        "\n",
        "The generating data will be a 2d-data `(28, 28)` being arranged similar to the input shape of `nn.Conv2d` with channel = 1, height = 28 and width = 28 `(batch_size, channel, height, width)`\n",
        "\n",
        "You will then be asked to create a network consisting of 2 `nn.Conv2d` layers followed by a `nn.Linear` layer. After the `nn.Linear` layer, we send the data to a `nn.LSTM` layer where `num_layer` and `hidden_size` can be defined. This `hidden_size` is set to be the same as `num_classes`. The output of lstm is then directly returned."
      ]
    },
    {
      "cell_type": "markdown",
      "metadata": {
        "id": "8HRaDlgpDqR1"
      },
      "source": [
        "Import Libraries"
      ]
    },
    {
      "cell_type": "code",
      "execution_count": 1,
      "metadata": {
        "id": "3kcPxgAlPve4"
      },
      "outputs": [],
      "source": [
        "import torch\n",
        "import torch.nn as nn #defining neural network\n",
        "import torch.nn.functional as F #helper\n",
        "from torch.utils.data import  TensorDataset,DataLoader #batching\n",
        "from torchvision import datasets, transforms #loading datasets\n",
        "from torchvision.utils import make_grid  #for visualization\n",
        "\n",
        "import numpy as np\n",
        "import pandas as pd\n",
        "from sklearn.metrics import confusion_matrix\n",
        "import matplotlib.pyplot as plt\n",
        "import os"
      ]
    },
    {
      "cell_type": "markdown",
      "metadata": {
        "id": "dN4md_BKR1pL"
      },
      "source": [
        "1. Generate a 4 class 2d-data with 70000 samples. (10 points)\n",
        "- Class 0 data is sampled from a normal distribution with mean = 0, std = 1, size = `(28,28)`\n",
        "- Class 1 data is sampled from a normal distribution with mean = 5, std = 1, size = `(28,28)`\n",
        "- Class 2 data is sampled from a normal distribution with mean = 15, std = 1, size = `(28,28)`\n",
        "- Class 3 data is sampled from a normal distribution with mean = 20, std = 1, size = `(28,28)`\n",
        "\n",
        "The final shape of *x* should be `(70000, 1, 28, 28)` and *y* should be `(70000,)`"
      ]
    },
    {
      "cell_type": "code",
      "execution_count": 2,
      "metadata": {},
      "outputs": [],
      "source": [
        "cond = [(5,1),(15,1),(20,1)]\n",
        "s = np.random.normal(0, 1,28*28*17500)\n",
        "X_sample = s.reshape(17500,1,28,28)\n",
        "Y_sample = np.array([0]*17500)\n",
        "\n",
        "for i in range(len(cond)):\n",
        "    s = np.random.normal(cond[i][0], cond[i][1],28*28*17500)\n",
        "    X_sample = np.append(X_sample,s.reshape(17500,1,28,28),axis=0)\n",
        "    Y_sample = np.append(Y_sample,np.array([i+1]*17500))\n"
      ]
    },
    {
      "cell_type": "code",
      "execution_count": 3,
      "metadata": {},
      "outputs": [
        {
          "data": {
            "text/plain": [
              "((70000, 1, 28, 28), (70000,))"
            ]
          },
          "execution_count": 3,
          "metadata": {},
          "output_type": "execute_result"
        }
      ],
      "source": [
        "X_sample.shape,Y_sample.shape"
      ]
    },
    {
      "cell_type": "code",
      "execution_count": 4,
      "metadata": {},
      "outputs": [],
      "source": [
        "X_sample =torch.Tensor(X_sample)\n",
        "Y_sample = torch.Tensor(Y_sample)\n",
        "training_data = TensorDataset(X_sample,Y_sample) "
      ]
    },
    {
      "cell_type": "markdown",
      "metadata": {
        "id": "VyeGf8jzYn_g"
      },
      "source": [
        "In case you are unable to do question 1, Use the following lines of code to generate your data and continue with question 3. But be aware that no marks will be given to question 1 and question 2"
      ]
    },
    {
      "cell_type": "markdown",
      "metadata": {
        "id": "i4gqWf-BAnfK"
      },
      "source": [
        "2. Split your data into train and test with the split ratio of 1/7 (5 points)"
      ]
    },
    {
      "cell_type": "code",
      "execution_count": 5,
      "metadata": {},
      "outputs": [
        {
          "data": {
            "text/plain": [
              "70000"
            ]
          },
          "execution_count": 5,
          "metadata": {},
          "output_type": "execute_result"
        }
      ],
      "source": [
        "len(training_data)"
      ]
    },
    {
      "cell_type": "code",
      "execution_count": 6,
      "metadata": {
        "id": "3JGmI82aYOFt"
      },
      "outputs": [],
      "source": [
        "test_size = int(len(training_data)/7)\n",
        "\n",
        "train_set,test_set = torch.utils.data.random_split(training_data,[len(training_data)-test_size,test_size])"
      ]
    },
    {
      "cell_type": "markdown",
      "metadata": {
        "id": "hVfzHO4tSutV"
      },
      "source": [
        "3. Check the size of your train and test sets (5 points)"
      ]
    },
    {
      "cell_type": "code",
      "execution_count": 7,
      "metadata": {},
      "outputs": [
        {
          "data": {
            "text/plain": [
              "(60000, 10000)"
            ]
          },
          "execution_count": 7,
          "metadata": {},
          "output_type": "execute_result"
        }
      ],
      "source": [
        "len(train_set),len(test_set)"
      ]
    },
    {
      "cell_type": "markdown",
      "metadata": {
        "id": "zI3okI8lSyA9"
      },
      "source": [
        "4. Set up your train and test loader with a batch size of 32 and `shuffle = True` (10 points)"
      ]
    },
    {
      "cell_type": "code",
      "execution_count": 8,
      "metadata": {
        "id": "mU-HO84OSizY"
      },
      "outputs": [],
      "source": [
        "train_loader = DataLoader(train_set,batch_size = 32,shuffle=True)\n",
        "test_loader = DataLoader(test_set,batch_size = 8571,shuffle=False) # no need to shuffle and batch cuda will not out of memory because no grad cal\n",
        "\n"
      ]
    },
    {
      "cell_type": "markdown",
      "metadata": {
        "id": "MgKC7RaHS6At"
      },
      "source": [
        "5. Check the shape of your batch. It should be `[batchsize = 32, channel = 1, height = 28, width = 28]` (5 points)"
      ]
    },
    {
      "cell_type": "code",
      "execution_count": 9,
      "metadata": {
        "id": "-AFbESMhTx8q"
      },
      "outputs": [
        {
          "name": "stdout",
          "output_type": "stream",
          "text": [
            "torch.Size([32, 1, 28, 28])\n",
            "torch.Size([32])\n"
          ]
        },
        {
          "data": {
            "image/png": "[encoded data removed]",
            "text/plain": [
              "<Figure size 200x200 with 1 Axes>"
            ]
          },
          "metadata": {},
          "output_type": "display_data"
        }
      ],
      "source": [
        "for image, label in train_loader:\n",
        "    print(image.shape) # (bs,ch,h,w)\n",
        "    print(label.shape) \n",
        "\n",
        "    norm = image[0] # np.transpose(image,(0,1,3,2))\n",
        "    plt.figure(figsize = (2,2))\n",
        "    plt.imshow(np.transpose(norm, (1,2,0)))\n",
        "    \n",
        "    break"
      ]
    },
    {
      "cell_type": "markdown",
      "metadata": {
        "id": "-DV6rOMhTcSt"
      },
      "source": [
        "6. Plot 6 samples of any classes (10 points)"
      ]
    },
    {
      "cell_type": "code",
      "execution_count": 10,
      "metadata": {},
      "outputs": [
        {
          "name": "stdout",
          "output_type": "stream",
          "text": [
            "torch.Size([1, 28, 28])\n",
            "torch.Size([])\n"
          ]
        },
        {
          "name": "stdout",
          "output_type": "stream",
          "text": [
            "torch.Size([1, 28, 28])\n",
            "torch.Size([])\n",
            "torch.Size([1, 28, 28])\n",
            "torch.Size([])\n",
            "torch.Size([1, 28, 28])\n",
            "torch.Size([])\n",
            "torch.Size([1, 28, 28])\n",
            "torch.Size([])\n",
            "torch.Size([1, 28, 28])\n",
            "torch.Size([])\n"
          ]
        },
        {
          "data": {
            "image/png": "[encoded data removed]",
            "text/plain": [
              "<Figure size 640x480 with 6 Axes>"
            ]
          },
          "metadata": {},
          "output_type": "display_data"
        }
      ],
      "source": [
        "\n",
        "for image, label in train_loader:\n",
        "\n",
        "    c = 0\n",
        "    for im,l in zip(image,label):\n",
        "        print(im.shape) # (bs,ch,h,w)\n",
        "        print(l.shape) \n",
        "        norm = im # np.transpose(image,(0,1,3,2))\n",
        "        plt.subplot(2, 3, c+1)\n",
        "        plt.imshow(np.transpose(norm, (1,2,0)))\n",
        "        plt.title(f\"Class {l.item()}\")\n",
        "\n",
        "        c+=1\n",
        "\n",
        "        if c==6:\n",
        "            break\n",
        "    break"
      ]
    },
    {
      "cell_type": "markdown",
      "metadata": {
        "id": "gjsFtdXgTxtN"
      },
      "source": [
        "7. Configure your device. (5 points)"
      ]
    },
    {
      "cell_type": "code",
      "execution_count": 11,
      "metadata": {},
      "outputs": [],
      "source": [
        "device = torch.device(\"cpu\")"
      ]
    },
    {
      "cell_type": "markdown",
      "metadata": {
        "id": "p5CFDBK8XVZA"
      },
      "source": [
        "8. Define your class called `Net` with the following layers (40 points)\n",
        "- cnn2d layer 1 with `in_channel = 1`, `out_channel = 10`, `kernel size = 5`, dropout of `p = 0.5`, `maxpool` and `relu` as its activation function\n",
        "- cnn2d layer 2 with `in_channel = 10`, `out_channel = 20`, `kernel size = 5`, dropout of `p = 0.5`, `maxpool` and `relu` as its activation function\n",
        "- linear layer with output of 25\n",
        "- lstm with `num_layer = 2` and set hidden size to be num_classes\n",
        "\n",
        "\n"
      ]
    },
    {
      "cell_type": "code",
      "execution_count": 12,
      "metadata": {
        "id": "JgQ7KEGSolg0"
      },
      "outputs": [],
      "source": [
        "class Net(nn.Module):\n",
        "\n",
        "    def __init__(self,num_class,num_layers=2):\n",
        "        super().__init__()\n",
        "\n",
        "        self.conv1 =nn.Conv2d(1,10,5,padding=2) # i set pad to 2 because i want outputsize to be the same\n",
        "        self.conv2 =nn.Conv2d(10,20,5,padding=2)\n",
        "        self.dropout = nn.Dropout(p=0.5)\n",
        "        self.batch_norm1 = nn.BatchNorm2d(10, affine=False)\n",
        "        self.batch_norm2 = nn.BatchNorm2d(20, affine=False)\n",
        "\n",
        "        # output 28,28 but 2 maxpool = /4 => 7,7\n",
        "        self.fc = nn.Linear(7*7*20,25)\n",
        "        self.lstm = nn.LSTM(25,num_class,num_layers=num_layers) # 0-9\n",
        "\n",
        "\n",
        "    def forward(self,X):\n",
        "\n",
        "        X = F.relu(self.batch_norm1(self.conv1(X)))\n",
        "        X = F.max_pool2d(X, 2, 2)\n",
        "        # X = self.batch_norm1(X)\n",
        "        # X = self.dropout(X)\n",
        "\n",
        "        X = F.relu(self.batch_norm2(self.conv2(X)))\n",
        "        X = F.max_pool2d(X, 2, 2)\n",
        "        # X = self.batch_norm2(X)\n",
        "        # X = self.dropout(X)\n",
        "\n",
        "        X = X.view(-1, 7*7*20)\n",
        "        X = F.relu(self.fc(X))\n",
        "\n",
        "        out,_ = self.lstm(X)\n",
        "\n",
        "        return out"
      ]
    },
    {
      "cell_type": "markdown",
      "metadata": {
        "id": "ZX-z2gwEV0xq"
      },
      "source": [
        "9. Create a model object with `num_layers of lstm = 2`, `hidden_size` and `num_classes = 4` (10 points)\n",
        "\n",
        "If you use MNIST hidden_size and  `num_classes = 10`\n"
      ]
    },
    {
      "cell_type": "code",
      "execution_count": 13,
      "metadata": {
        "id": "c5XXKpoNbryI"
      },
      "outputs": [],
      "source": [
        "param = {\"num_layers\":2,\"num_class\":4}\n",
        "\n",
        "model =  Net(**param)"
      ]
    },
    {
      "cell_type": "code",
      "execution_count": 14,
      "metadata": {},
      "outputs": [
        {
          "data": {
            "text/plain": [
              "32"
            ]
          },
          "execution_count": 14,
          "metadata": {},
          "output_type": "execute_result"
        }
      ],
      "source": [
        "len(image)"
      ]
    },
    {
      "cell_type": "code",
      "execution_count": 15,
      "metadata": {},
      "outputs": [
        {
          "name": "stdout",
          "output_type": "stream",
          "text": [
            "torch.Size([32, 4])\n"
          ]
        }
      ],
      "source": [
        "# test\n",
        "output  = model(image)\n",
        "print(output.shape)\n",
        "\n",
        "assert output.shape[1] == 4"
      ]
    },
    {
      "cell_type": "code",
      "execution_count": 16,
      "metadata": {},
      "outputs": [
        {
          "data": {
            "text/plain": [
              "Net(\n",
              "  (conv1): Conv2d(1, 10, kernel_size=(5, 5), stride=(1, 1), padding=(2, 2))\n",
              "  (conv2): Conv2d(10, 20, kernel_size=(5, 5), stride=(1, 1), padding=(2, 2))\n",
              "  (dropout): Dropout(p=0.5, inplace=False)\n",
              "  (batch_norm1): BatchNorm2d(10, eps=1e-05, momentum=0.1, affine=False, track_running_stats=True)\n",
              "  (batch_norm2): BatchNorm2d(20, eps=1e-05, momentum=0.1, affine=False, track_running_stats=True)\n",
              "  (fc): Linear(in_features=980, out_features=25, bias=True)\n",
              "  (lstm): LSTM(25, 4, num_layers=2)\n",
              ")"
            ]
          },
          "execution_count": 16,
          "metadata": {},
          "output_type": "execute_result"
        }
      ],
      "source": [
        "model.to(device)"
      ]
    },
    {
      "cell_type": "markdown",
      "metadata": {
        "id": "oB5mzlq1hUjr"
      },
      "source": [
        "10. Define an appropriate loss function for classification of this dataset (2.5 points)"
      ]
    },
    {
      "cell_type": "code",
      "execution_count": 17,
      "metadata": {
        "id": "qMwV-eeJhZiM"
      },
      "outputs": [],
      "source": [
        "criterion = nn.CrossEntropyLoss()"
      ]
    },
    {
      "cell_type": "markdown",
      "metadata": {
        "id": "rg8zUUMGhb3D"
      },
      "source": [
        "11. Define your optimizer as `Adam` with learning rate of `0.001` (5 points)"
      ]
    },
    {
      "cell_type": "code",
      "execution_count": 18,
      "metadata": {
        "id": "IOpYvWwJcSDm"
      },
      "outputs": [],
      "source": [
        "optim     = torch.optim.Adam(model.parameters(), lr=0.001)"
      ]
    },
    {
      "cell_type": "markdown",
      "metadata": {
        "id": "UHy0PqUZiPbF"
      },
      "source": [
        "12. Define your train function and train your model with `n_epoch = 3` (15 points)"
      ]
    },
    {
      "cell_type": "code",
      "execution_count": 19,
      "metadata": {
        "id": "i1jZoAG_c5Yl"
      },
      "outputs": [
        {
          "name": "stdout",
          "output_type": "stream",
          "text": [
            "Epoch: 0 | Train acc: 80.73 | Loss: 0.8481\n",
            "Epoch: 1 | Train acc: 99.87 | Loss: 0.5607\n",
            "Epoch: 2 | Train acc: 99.50 | Loss: 0.5132\n"
          ]
        }
      ],
      "source": [
        "num_epochs = 3\n",
        "\n",
        "loss_history = []\n",
        "accuracy_history = []\n",
        "for i in range(num_epochs):\n",
        "    total_loss = 0.0\n",
        "    total_correct = 0\n",
        "    total_samples = 0\n",
        "\n",
        "\n",
        "    \n",
        "    for images, labels in train_loader:\n",
        "        images = images.to(device)\n",
        "        labels = labels.type(torch.LongTensor).to(device)\n",
        "        y_hat = model(images)\n",
        "        loss = criterion(y_hat, labels)\n",
        "\n",
        "        optim.zero_grad()\n",
        "        loss.backward()\n",
        "        optim.step()\n",
        "\n",
        "        total_loss += loss.item()\n",
        "        total_correct += (torch.max(y_hat, 1)[1] == labels).sum().item()\n",
        "        total_samples += len(images)\n",
        "\n",
        "    epoch_loss = total_loss / len(train_loader)\n",
        "    epoch_acc = (total_correct / total_samples) * 100\n",
        "\n",
        "    loss_history.append(epoch_loss)\n",
        "    accuracy_history.append(epoch_acc)\n",
        "\n",
        "    print(f\"Epoch: {i} | Train acc: {epoch_acc:3.2f} | Loss: {epoch_loss:3.4f}\")\n"
      ]
    },
    {
      "cell_type": "markdown",
      "metadata": {
        "id": "hK7_TsS5iaGi"
      },
      "source": [
        "13. Plot your train losses and accuracies (10 points)"
      ]
    },
    {
      "cell_type": "code",
      "execution_count": 20,
      "metadata": {
        "id": "VOg2XS01sAsI"
      },
      "outputs": [
        {
          "data": {
            "image/png": "[encoded data removed]",
            "text/plain": [
              "<Figure size 640x480 with 1 Axes>"
            ]
          },
          "metadata": {},
          "output_type": "display_data"
        }
      ],
      "source": [
        "import matplotlib.pyplot as plt\n",
        "\n",
        "plt.plot(loss_history)\n",
        "plt.title(\"loss\")\n",
        "plt.show()"
      ]
    },
    {
      "cell_type": "code",
      "execution_count": 21,
      "metadata": {},
      "outputs": [
        {
          "data": {
            "image/png": "[encoded data removed]",
            "text/plain": [
              "<Figure size 640x480 with 1 Axes>"
            ]
          },
          "metadata": {},
          "output_type": "display_data"
        }
      ],
      "source": [
        "import matplotlib.pyplot as plt\n",
        "\n",
        "plt.plot(accuracy_history)\n",
        "plt.title(\"accuracy\")\n",
        "plt.show()"
      ]
    },
    {
      "cell_type": "markdown",
      "metadata": {
        "id": "UCBLreP1iUUk"
      },
      "source": [
        "14. Evaluate your model with your test set (10 points)"
      ]
    },
    {
      "cell_type": "code",
      "execution_count": 22,
      "metadata": {
        "id": "nt3fbR1EecZF"
      },
      "outputs": [
        {
          "name": "stdout",
          "output_type": "stream",
          "text": [
            "Test | Accuacy: 100.00 | Loss: 0.24371188879013062\n"
          ]
        }
      ],
      "source": [
        "from torch import nn\n",
        "\n",
        "criterion = nn.CrossEntropyLoss()\n",
        "\n",
        "\n",
        "with torch.no_grad(): \n",
        "    for images, labels in test_loader:\n",
        "        y_hat = model(images)\n",
        "        labels = labels.type(torch.LongTensor)\n",
        "        loss = criterion(y_hat,labels)\n",
        "\n",
        "        test_loss = loss.item()\n",
        "        y_hat_pred =  torch.max(y_hat, 1)[1]\n",
        "        test_correct = (y_hat_pred == labels).sum().item()\n",
        "        test_samples = len(images)\n",
        "\n",
        "    \n",
        "print(f\"Test | Accuacy: {(test_correct / test_samples) * 100:3.2f} | Loss: {test_loss / len(test_loader)}\")"
      ]
    }
  ],
  "metadata": {
    "accelerator": "GPU",
    "colab": {
      "provenance": []
    },
    "kernelspec": {
      "display_name": "Python 3",
      "name": "python3"
    },
    "language_info": {
      "codemirror_mode": {
        "name": "ipython",
        "version": 3
      },
      "file_extension": ".py",
      "mimetype": "text/x-python",
      "name": "python",
      "nbconvert_exporter": "python",
      "pygments_lexer": "ipython3",
      "version": "3.10.9"
    }
  },
  "nbformat": 4,
  "nbformat_minor": 0
}
